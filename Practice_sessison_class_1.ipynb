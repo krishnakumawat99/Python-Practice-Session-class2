{
  "nbformat": 4,
  "nbformat_minor": 0,
  "metadata": {
    "colab": {
      "provenance": []
    },
    "kernelspec": {
      "name": "python3",
      "display_name": "Python 3"
    },
    "language_info": {
      "name": "python"
    }
  },
  "cells": [
    {
      "cell_type": "code",
      "execution_count": null,
      "metadata": {
        "colab": {
          "base_uri": "https://localhost:8080/"
        },
        "id": "qUwgL7ZObjnd",
        "outputId": "36d92aba-2792-49fa-cab2-6857f1d95b08"
      },
      "outputs": [
        {
          "output_type": "stream",
          "name": "stdout",
          "text": [
            "* * * *  \n",
            "* * * *  \n",
            "* * * *  \n",
            "* * * *  \n"
          ]
        }
      ],
      "source": [
        "for i in range(0,4):\n",
        "  for j in range(0,4):\n",
        "    print(\"*\", end=\" \")\n",
        "\n",
        "  print(\" \")\n"
      ]
    },
    {
      "cell_type": "code",
      "source": [
        "num=6\n",
        "for i in range(0,num):\n",
        "  for j in range(0,num):\n",
        "    print(\"*\", end=\" \")\n",
        "\n",
        "  print(\" \")\n"
      ],
      "metadata": {
        "colab": {
          "base_uri": "https://localhost:8080/"
        },
        "id": "eq20iCizc156",
        "outputId": "396a017b-0482-485c-a359-2df8c7f4d352"
      },
      "execution_count": null,
      "outputs": [
        {
          "output_type": "stream",
          "name": "stdout",
          "text": [
            "* * * * * *  \n",
            "* * * * * *  \n",
            "* * * * * *  \n",
            "* * * * * *  \n",
            "* * * * * *  \n",
            "* * * * * *  \n"
          ]
        }
      ]
    },
    {
      "cell_type": "code",
      "source": [
        "num=4\n",
        "for i in range(0,num):\n",
        "  for j in range(0,i+1):\n",
        "    print(\"*\",end=\" \")\n",
        "\n",
        "  print(\" \")"
      ],
      "metadata": {
        "colab": {
          "base_uri": "https://localhost:8080/"
        },
        "id": "_fDrwTCDeJlj",
        "outputId": "1d726a8c-f43a-4fb9-e227-2cd40b605f2d"
      },
      "execution_count": null,
      "outputs": [
        {
          "output_type": "stream",
          "name": "stdout",
          "text": [
            "*  \n",
            "* *  \n",
            "* * *  \n",
            "* * * *  \n"
          ]
        }
      ]
    },
    {
      "cell_type": "code",
      "source": [
        "num=4\n",
        "for i in range(0,num):\n",
        "  for j in range(0,i+1):\n",
        "    print(i,end=\" \")\n",
        "\n",
        "  print(\" \")"
      ],
      "metadata": {
        "colab": {
          "base_uri": "https://localhost:8080/"
        },
        "id": "CSVkjPsqfWyE",
        "outputId": "7ed95f2d-bf75-4fe3-e8ec-5e138a8079ef"
      },
      "execution_count": null,
      "outputs": [
        {
          "output_type": "stream",
          "name": "stdout",
          "text": [
            "0  \n",
            "1 1  \n",
            "2 2 2  \n",
            "3 3 3 3  \n"
          ]
        }
      ]
    },
    {
      "cell_type": "code",
      "source": [
        "num=4\n",
        "for i in range(0,num):\n",
        "  for j in range(0,i+1):\n",
        "    j+=2\n",
        "    print(j,end=\" \")\n",
        "\n",
        "  print(\" \")"
      ],
      "metadata": {
        "colab": {
          "base_uri": "https://localhost:8080/"
        },
        "id": "rBX8Hgk9fwbY",
        "outputId": "823d27c5-5775-40cf-cc0c-ad965e02fc12"
      },
      "execution_count": null,
      "outputs": [
        {
          "output_type": "stream",
          "name": "stdout",
          "text": [
            "2  \n",
            "2 3  \n",
            "2 3 4  \n",
            "2 3 4 5  \n"
          ]
        }
      ]
    },
    {
      "cell_type": "code",
      "source": [
        "num=4\n",
        "for i in range(0,num):\n",
        "  x=2\n",
        "  for j in range(0,i+1):\n",
        "    j+=2\n",
        "    print(x,end=\" \")\n",
        "\n",
        "  print(\" \")"
      ],
      "metadata": {
        "colab": {
          "base_uri": "https://localhost:8080/"
        },
        "id": "spRslU99gRsq",
        "outputId": "033ef6de-b0c7-4b1c-fa0f-d87d2128077b"
      },
      "execution_count": null,
      "outputs": [
        {
          "output_type": "stream",
          "name": "stdout",
          "text": [
            "2  \n",
            "2 2  \n",
            "2 2 2  \n",
            "2 2 2 2  \n"
          ]
        }
      ]
    },
    {
      "cell_type": "code",
      "source": [
        "num = 65\n",
        "\n",
        "for i in range(1, 4):\n",
        "    for j in range(0,i):\n",
        "        print(num, end=\" \")\n",
        "        num += 1\n",
        "    print()"
      ],
      "metadata": {
        "colab": {
          "base_uri": "https://localhost:8080/"
        },
        "id": "3Hf3tWW0hc0h",
        "outputId": "9251e8c7-8cec-43d1-96f9-2e3730bdeaf5"
      },
      "execution_count": null,
      "outputs": [
        {
          "output_type": "stream",
          "name": "stdout",
          "text": [
            "65 \n",
            "66 67 \n",
            "68 69 70 \n"
          ]
        }
      ]
    },
    {
      "cell_type": "code",
      "source": [
        "num=65\n",
        "\n",
        "for i in range(1, 4):\n",
        "    for j in range(i):\n",
        "        print(chr(num), end=\" \")\n",
        "        num += 1\n",
        "    print()\n"
      ],
      "metadata": {
        "colab": {
          "base_uri": "https://localhost:8080/"
        },
        "id": "W6wiUXwZgs8_",
        "outputId": "91e4dac6-4b99-4453-da76-6ebaf061495d"
      },
      "execution_count": null,
      "outputs": [
        {
          "output_type": "stream",
          "name": "stdout",
          "text": [
            "A \n",
            "B C \n",
            "D E F \n"
          ]
        }
      ]
    },
    {
      "cell_type": "code",
      "source": [
        "for rows in range(4,0,-1):\n",
        "    for cols in range(rows):\n",
        "        print(\"*\", end=\" \")\n",
        "    print(\" \")"
      ],
      "metadata": {
        "colab": {
          "base_uri": "https://localhost:8080/"
        },
        "id": "z_k90Rr6g-uw",
        "outputId": "e8543602-c929-4e3b-a61e-e14536843a90"
      },
      "execution_count": null,
      "outputs": [
        {
          "output_type": "stream",
          "name": "stdout",
          "text": [
            "* * * *  \n",
            "* * *  \n",
            "* *  \n",
            "*  \n"
          ]
        }
      ]
    },
    {
      "cell_type": "code",
      "source": [
        "for rows in range(4, 0, -1):\n",
        "    for cols in range(rows):\n",
        "        print(cols, end=\" \")\n",
        "    print()"
      ],
      "metadata": {
        "colab": {
          "base_uri": "https://localhost:8080/"
        },
        "id": "kT4WSCPtjQRu",
        "outputId": "3f52ea03-cedc-41b8-af9a-c6871152c5c7"
      },
      "execution_count": null,
      "outputs": [
        {
          "output_type": "stream",
          "name": "stdout",
          "text": [
            "0 1 2 3 \n",
            "0 1 2 \n",
            "0 1 \n",
            "0 \n"
          ]
        }
      ]
    },
    {
      "cell_type": "code",
      "source": [
        "num=10\n",
        "for rows in range(5, 0, -1):\n",
        "    for cols in range(rows):\n",
        "        print(num, end=\" \")\n",
        "        num+=1\n",
        "    print()"
      ],
      "metadata": {
        "colab": {
          "base_uri": "https://localhost:8080/"
        },
        "id": "6nt7LAqOhvMP",
        "outputId": "fc621ad4-2aef-4202-b571-e4703653cb47"
      },
      "execution_count": null,
      "outputs": [
        {
          "output_type": "stream",
          "name": "stdout",
          "text": [
            "10 11 12 13 14 \n",
            "15 16 17 18 \n",
            "19 20 21 \n",
            "22 23 \n",
            "24 \n"
          ]
        }
      ]
    },
    {
      "cell_type": "code",
      "source": [
        "for i in range(1, 5):\n",
        "    for j in range(i, 5):\n",
        "        print(j, end=\" \")\n",
        "    print()"
      ],
      "metadata": {
        "colab": {
          "base_uri": "https://localhost:8080/"
        },
        "id": "181DyPZwi8ls",
        "outputId": "ada31ee9-0488-48b2-d1b5-1728a69189f3"
      },
      "execution_count": null,
      "outputs": [
        {
          "output_type": "stream",
          "name": "stdout",
          "text": [
            "1 2 3 4 \n",
            "2 3 4 \n",
            "3 4 \n",
            "4 \n"
          ]
        }
      ]
    },
    {
      "cell_type": "code",
      "source": [
        "for i in range(1,5):\n",
        "    for j in range(i,5):\n",
        "        print(j, end=\" \")\n",
        "    print()"
      ],
      "metadata": {
        "colab": {
          "base_uri": "https://localhost:8080/"
        },
        "id": "cHeVXPvNjfwy",
        "outputId": "60c49eae-0a4f-430b-c574-940f7a20639d"
      },
      "execution_count": null,
      "outputs": [
        {
          "output_type": "stream",
          "name": "stdout",
          "text": [
            "1 2 3 4 \n",
            "2 3 4 \n",
            "3 4 \n",
            "4 \n"
          ]
        }
      ]
    },
    {
      "cell_type": "code",
      "source": [
        "for i in range(5, 0, -1):\n",
        "    for j in range(i):\n",
        "        print(1 if j % 2 == 0 else 0, end=\" \")\n",
        "    print()"
      ],
      "metadata": {
        "colab": {
          "base_uri": "https://localhost:8080/"
        },
        "id": "3T2gyhDkkJIN",
        "outputId": "93fec5af-cc3a-4137-a393-80cd0533b78e"
      },
      "execution_count": null,
      "outputs": [
        {
          "output_type": "stream",
          "name": "stdout",
          "text": [
            "1 0 1 0 1 \n",
            "1 0 1 0 \n",
            "1 0 1 \n",
            "1 0 \n",
            "1 \n"
          ]
        }
      ]
    },
    {
      "cell_type": "code",
      "source": [
        "for i in range(5, 0, -1):\n",
        "    for j in range(i):\n",
        "        if j % 2 == 0:\n",
        "            print(1, end=\" \")\n",
        "        else:\n",
        "            print(0, end=\" \")\n",
        "    print()\n"
      ],
      "metadata": {
        "colab": {
          "base_uri": "https://localhost:8080/"
        },
        "id": "1Oc18RjvkvJr",
        "outputId": "fd97397e-ce52-4570-83a8-d443c41c40ea"
      },
      "execution_count": null,
      "outputs": [
        {
          "output_type": "stream",
          "name": "stdout",
          "text": [
            "1 0 1 0 1 \n",
            "1 0 1 0 \n",
            "1 0 1 \n",
            "1 0 \n",
            "1 \n"
          ]
        }
      ]
    },
    {
      "cell_type": "code",
      "source": [
        "for i in range(1, 6):\n",
        "    for j in range(6 - i):\n",
        "        if j % 2 == 0:\n",
        "            print(i, end=\" \")\n",
        "        else:\n",
        "            print(0, end=\" \")\n",
        "    print()\n"
      ],
      "metadata": {
        "colab": {
          "base_uri": "https://localhost:8080/"
        },
        "id": "2JTRjJZPlTEO",
        "outputId": "db23ecdd-2811-4e81-dfaa-5aa6a26c96eb"
      },
      "execution_count": null,
      "outputs": [
        {
          "output_type": "stream",
          "name": "stdout",
          "text": [
            "1 0 1 0 1 \n",
            "2 0 2 0 \n",
            "3 0 3 \n",
            "4 0 \n",
            "5 \n"
          ]
        }
      ]
    },
    {
      "cell_type": "code",
      "source": [
        "n = 3\n",
        "for i in range(n, 0, -1):\n",
        "    for j in range(i):\n",
        "        print(\"-\", end=\" \")\n",
        "    print()"
      ],
      "metadata": {
        "colab": {
          "base_uri": "https://localhost:8080/"
        },
        "id": "kxl7nbcloGuI",
        "outputId": "38a34988-c299-4e17-c7e3-e834826cd360"
      },
      "execution_count": null,
      "outputs": [
        {
          "output_type": "stream",
          "name": "stdout",
          "text": [
            "- - - \n",
            "- - \n",
            "- \n"
          ]
        }
      ]
    },
    {
      "cell_type": "code",
      "source": [
        "n = 4\n",
        "for i in range(1, n + 1):\n",
        "    for j in range(i):\n",
        "        print(\"*\", end=\" \")\n",
        "    print()"
      ],
      "metadata": {
        "colab": {
          "base_uri": "https://localhost:8080/"
        },
        "id": "ls5mee4jplJp",
        "outputId": "0eb2f009-0e78-4d72-d97a-1e445309d2e4"
      },
      "execution_count": null,
      "outputs": [
        {
          "output_type": "stream",
          "name": "stdout",
          "text": [
            "* \n",
            "* * \n",
            "* * * \n",
            "* * * * \n"
          ]
        }
      ]
    },
    {
      "cell_type": "code",
      "source": [
        "n = 4\n",
        "\n",
        "for i in range(n):\n",
        "    for j in range(n - i - 1):\n",
        "        print(\"-\", end=\" \")\n",
        "    for k in range(i + 1):\n",
        "        print(\"*\", end=\" \")\n",
        "    print()"
      ],
      "metadata": {
        "colab": {
          "base_uri": "https://localhost:8080/"
        },
        "id": "Shq8t0pyp9X1",
        "outputId": "a7196192-82fe-43c7-f272-ef9cf5d31213"
      },
      "execution_count": null,
      "outputs": [
        {
          "output_type": "stream",
          "name": "stdout",
          "text": [
            "- - - * \n",
            "- - * * \n",
            "- * * * \n",
            "* * * * \n"
          ]
        }
      ]
    },
    {
      "cell_type": "code",
      "source": [
        "n = 5\n",
        "for i in range(n):\n",
        "    for j in range(i):\n",
        "        print(\"-\", end=\" \")\n",
        "    for k in range(n - i):\n",
        "        print(\"*\", end=\" \")\n",
        "    print()"
      ],
      "metadata": {
        "colab": {
          "base_uri": "https://localhost:8080/"
        },
        "id": "DMGde2opqK83",
        "outputId": "cb41ef89-b6b6-4efb-9b75-ef7095757acb"
      },
      "execution_count": null,
      "outputs": [
        {
          "output_type": "stream",
          "name": "stdout",
          "text": [
            "* * * * * \n",
            "- * * * * \n",
            "- - * * * \n",
            "- - - * * \n",
            "- - - - * \n"
          ]
        }
      ]
    },
    {
      "cell_type": "code",
      "source": [
        "n = 5\n",
        "\n",
        "for i in range(n):\n",
        "    for j in range(n):\n",
        "        if j == i or j == n - 1 or i == 0:\n",
        "            print(\"*\", end=\" \")\n",
        "        else:\n",
        "            print(\"-\", end=\" \")\n",
        "    print()\n"
      ],
      "metadata": {
        "colab": {
          "base_uri": "https://localhost:8080/"
        },
        "id": "lQldvz_3rjFu",
        "outputId": "b864c9b8-7154-4415-8f6e-a22d1aef21b5"
      },
      "execution_count": null,
      "outputs": [
        {
          "output_type": "stream",
          "name": "stdout",
          "text": [
            "* * * * * \n",
            "- * - - * \n",
            "- - * - * \n",
            "- - - * * \n",
            "- - - - * \n"
          ]
        }
      ]
    },
    {
      "cell_type": "code",
      "source": [
        "n = 5  # Number of rows\n",
        "\n",
        "for i in range(n):  # Controls the row number (0 to 4)\n",
        "    for j in range(n):  # Controls the columns\n",
        "        if j == i or j == n - 1 or i == 0:  # Conditions for printing '*'\n",
        "            print(\"*\", end=\" \")\n",
        "        else:\n",
        "            print(\"-\", end=\" \")\n",
        "    print()  # Moves to the next line\n"
      ],
      "metadata": {
        "colab": {
          "base_uri": "https://localhost:8080/"
        },
        "id": "RFkZZpD1sFFO",
        "outputId": "8643b34c-e48a-4387-fec3-2670f16f0c1f"
      },
      "execution_count": null,
      "outputs": [
        {
          "output_type": "stream",
          "name": "stdout",
          "text": [
            "* * * * * \n",
            "- * - - * \n",
            "- - * - * \n",
            "- - - * * \n",
            "- - - - * \n"
          ]
        }
      ]
    },
    {
      "cell_type": "code",
      "source": [
        "n = 5\n",
        "for i in range(n):\n",
        "    for j in range(n - i):\n",
        "        if (j == 0 or j == n - i - 1 or i == 0):\n",
        "            print(\"*\", end=\" \")\n",
        "        else:\n",
        "            print(\" \", end=\" \")\n",
        "    print()"
      ],
      "metadata": {
        "colab": {
          "base_uri": "https://localhost:8080/"
        },
        "id": "tyNcEU3QsTT3",
        "outputId": "090b0ce4-6f8a-4fcc-9637-e3df0f1f9042"
      },
      "execution_count": null,
      "outputs": [
        {
          "output_type": "stream",
          "name": "stdout",
          "text": [
            "* * * * * \n",
            "*     * \n",
            "*   * \n",
            "* * \n",
            "* \n"
          ]
        }
      ]
    },
    {
      "cell_type": "code",
      "source": [
        "num=5\n",
        "for i in range(0,num):\n",
        "  for j in range(0,num-i):\n",
        "    if(i==0 or j==0 or j==num-i-1):\n",
        "     print(\"*\",end=\" \")\n",
        "    else:\n",
        "      print(\" \",end=\" \")\n",
        "\n",
        "  print(\" \")\n"
      ],
      "metadata": {
        "colab": {
          "base_uri": "https://localhost:8080/"
        },
        "id": "gmQpOlKSs7OP",
        "outputId": "e225fa14-bc8b-4e2a-eec6-d92707913ed9"
      },
      "execution_count": null,
      "outputs": [
        {
          "output_type": "stream",
          "name": "stdout",
          "text": [
            "* * * * *  \n",
            "*     *  \n",
            "*   *  \n",
            "* *  \n",
            "*  \n"
          ]
        }
      ]
    },
    {
      "cell_type": "code",
      "source": [
        "n = 5  # Number of rows\n",
        "num = 1  # Starting number\n",
        "\n",
        "for i in range(n):  # Controls the row number (0 to 4)\n",
        "    for j in range(n - i):  # Controls the number of columns per row\n",
        "        if j == 0 or j == n - i - 1:  # Print the first and last number in each row\n",
        "            print(num, end=\" \")\n",
        "        else:\n",
        "            print(\"-\", end=\" \")  # Print '-' in between\n",
        "        num += 1  # Increment number for each position\n",
        "    print()  # Moves to the next line\n"
      ],
      "metadata": {
        "id": "I3C_R0VdwZRG"
      },
      "execution_count": null,
      "outputs": []
    },
    {
      "cell_type": "code",
      "source": [],
      "metadata": {
        "id": "yq8VHdFwxNcA"
      },
      "execution_count": null,
      "outputs": []
    }
  ]
}